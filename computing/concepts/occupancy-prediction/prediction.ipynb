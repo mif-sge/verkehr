{
 "cells": [
  {
   "cell_type": "code",
   "execution_count": 5,
   "metadata": {},
   "outputs": [],
   "source": [
    "from sklearn.linear_model import LogisticRegression\n",
    "from sklearn.preprocessing import StandardScaler\n",
    "from sklearn.model_selection import train_test_split\n",
    "\n",
    "from os import path \n",
    "from collections import Counter\n",
    "\n",
    "import pandas as pd\n",
    "import datetime"
   ]
  },
  {
   "cell_type": "code",
   "execution_count": 6,
   "metadata": {},
   "outputs": [],
   "source": [
    "if not path.exists('data/transformed_data.csv'):\n",
    "    \n",
    "    def t(v):\n",
    "        r = []\n",
    "        for i in v:\n",
    "            if i.isalpha():\n",
    "                i = ord(i)\n",
    "            r.append(str(i))\n",
    "        return ''.join(r)\n",
    "\n",
    "    df = pd.read_csv('data/20140711.CSV', dtype={\n",
    "        'TripID': int, \n",
    "        'RouteID': str, \n",
    "        'StopID': str, \n",
    "        'StopName': str, \n",
    "        'WeekBeginning': str, \n",
    "        'NumberOfBoardings': str\n",
    "    })\n",
    "    \n",
    "    df['RouteID'] = df['RouteID'].apply(t)\n",
    "    \n",
    "    df.to_csv('data/transformed_data.csv')"
   ]
  },
  {
   "cell_type": "code",
   "execution_count": 7,
   "metadata": {},
   "outputs": [],
   "source": [
    "df = pd.read_csv('data/transformed_data.csv', dtype={\n",
    "        'TripID': int, \n",
    "        'RouteID': str, \n",
    "        'StopID': str, \n",
    "        'StopName': str, \n",
    "        'WeekBeginning': str, \n",
    "        'NumberOfBoardings': str\n",
    "    })"
   ]
  },
  {
   "cell_type": "code",
   "execution_count": 8,
   "metadata": {},
   "outputs": [
    {
     "data": {
      "text/html": [
       "<div>\n",
       "<style scoped>\n",
       "    .dataframe tbody tr th:only-of-type {\n",
       "        vertical-align: middle;\n",
       "    }\n",
       "\n",
       "    .dataframe tbody tr th {\n",
       "        vertical-align: top;\n",
       "    }\n",
       "\n",
       "    .dataframe thead th {\n",
       "        text-align: right;\n",
       "    }\n",
       "</style>\n",
       "<table border=\"1\" class=\"dataframe\">\n",
       "  <thead>\n",
       "    <tr style=\"text-align: right;\">\n",
       "      <th></th>\n",
       "      <th>Unnamed: 0</th>\n",
       "      <th>TripID</th>\n",
       "      <th>RouteID</th>\n",
       "      <th>StopID</th>\n",
       "      <th>StopName</th>\n",
       "      <th>WeekBeginning</th>\n",
       "      <th>NumberOfBoardings</th>\n",
       "    </tr>\n",
       "  </thead>\n",
       "  <tbody>\n",
       "    <tr>\n",
       "      <th>0</th>\n",
       "      <td>0</td>\n",
       "      <td>23631</td>\n",
       "      <td>100</td>\n",
       "      <td>14156</td>\n",
       "      <td>181 Cross Rd</td>\n",
       "      <td>2013-06-30 00:00:00</td>\n",
       "      <td>1</td>\n",
       "    </tr>\n",
       "    <tr>\n",
       "      <th>1</th>\n",
       "      <td>1</td>\n",
       "      <td>23631</td>\n",
       "      <td>100</td>\n",
       "      <td>14144</td>\n",
       "      <td>177 Cross Rd</td>\n",
       "      <td>2013-06-30 00:00:00</td>\n",
       "      <td>1</td>\n",
       "    </tr>\n",
       "    <tr>\n",
       "      <th>2</th>\n",
       "      <td>2</td>\n",
       "      <td>23632</td>\n",
       "      <td>100</td>\n",
       "      <td>14132</td>\n",
       "      <td>175 Cross Rd</td>\n",
       "      <td>2013-06-30 00:00:00</td>\n",
       "      <td>1</td>\n",
       "    </tr>\n",
       "    <tr>\n",
       "      <th>3</th>\n",
       "      <td>3</td>\n",
       "      <td>23633</td>\n",
       "      <td>100</td>\n",
       "      <td>12266</td>\n",
       "      <td>Zone A Arndale Interchange</td>\n",
       "      <td>2013-06-30 00:00:00</td>\n",
       "      <td>2</td>\n",
       "    </tr>\n",
       "    <tr>\n",
       "      <th>4</th>\n",
       "      <td>4</td>\n",
       "      <td>23633</td>\n",
       "      <td>100</td>\n",
       "      <td>14147</td>\n",
       "      <td>178 Cross Rd</td>\n",
       "      <td>2013-06-30 00:00:00</td>\n",
       "      <td>1</td>\n",
       "    </tr>\n",
       "  </tbody>\n",
       "</table>\n",
       "</div>"
      ],
      "text/plain": [
       "   Unnamed: 0  TripID RouteID StopID                    StopName  \\\n",
       "0           0   23631     100  14156                181 Cross Rd   \n",
       "1           1   23631     100  14144                177 Cross Rd   \n",
       "2           2   23632     100  14132                175 Cross Rd   \n",
       "3           3   23633     100  12266  Zone A Arndale Interchange   \n",
       "4           4   23633     100  14147                178 Cross Rd   \n",
       "\n",
       "         WeekBeginning NumberOfBoardings  \n",
       "0  2013-06-30 00:00:00                 1  \n",
       "1  2013-06-30 00:00:00                 1  \n",
       "2  2013-06-30 00:00:00                 1  \n",
       "3  2013-06-30 00:00:00                 2  \n",
       "4  2013-06-30 00:00:00                 1  "
      ]
     },
     "execution_count": 8,
     "metadata": {},
     "output_type": "execute_result"
    }
   ],
   "source": [
    "df.head()"
   ]
  },
  {
   "cell_type": "code",
   "execution_count": 9,
   "metadata": {},
   "outputs": [
    {
     "data": {
      "text/html": [
       "<div>\n",
       "<style scoped>\n",
       "    .dataframe tbody tr th:only-of-type {\n",
       "        vertical-align: middle;\n",
       "    }\n",
       "\n",
       "    .dataframe tbody tr th {\n",
       "        vertical-align: top;\n",
       "    }\n",
       "\n",
       "    .dataframe thead th {\n",
       "        text-align: right;\n",
       "    }\n",
       "</style>\n",
       "<table border=\"1\" class=\"dataframe\">\n",
       "  <thead>\n",
       "    <tr style=\"text-align: right;\">\n",
       "      <th></th>\n",
       "      <th>Unnamed: 0</th>\n",
       "      <th>TripID</th>\n",
       "      <th>RouteID</th>\n",
       "      <th>StopID</th>\n",
       "      <th>StopName</th>\n",
       "      <th>WeekBeginning</th>\n",
       "      <th>NumberOfBoardings</th>\n",
       "    </tr>\n",
       "  </thead>\n",
       "  <tbody>\n",
       "    <tr>\n",
       "      <th>count</th>\n",
       "      <td>5.483114e+06</td>\n",
       "      <td>5.483114e+06</td>\n",
       "      <td>5483114</td>\n",
       "      <td>5483114</td>\n",
       "      <td>5483114</td>\n",
       "      <td>5483114</td>\n",
       "      <td>5483114</td>\n",
       "    </tr>\n",
       "    <tr>\n",
       "      <th>unique</th>\n",
       "      <td>NaN</td>\n",
       "      <td>NaN</td>\n",
       "      <td>194</td>\n",
       "      <td>4279</td>\n",
       "      <td>2437</td>\n",
       "      <td>54</td>\n",
       "      <td>286</td>\n",
       "    </tr>\n",
       "    <tr>\n",
       "      <th>top</th>\n",
       "      <td>NaN</td>\n",
       "      <td>NaN</td>\n",
       "      <td>300</td>\n",
       "      <td>16279</td>\n",
       "      <td>2 King William Rd</td>\n",
       "      <td>2014-03-02 00:00:00</td>\n",
       "      <td>1</td>\n",
       "    </tr>\n",
       "    <tr>\n",
       "      <th>freq</th>\n",
       "      <td>NaN</td>\n",
       "      <td>NaN</td>\n",
       "      <td>228373</td>\n",
       "      <td>29805</td>\n",
       "      <td>36369</td>\n",
       "      <td>111029</td>\n",
       "      <td>2212135</td>\n",
       "    </tr>\n",
       "    <tr>\n",
       "      <th>mean</th>\n",
       "      <td>2.741556e+06</td>\n",
       "      <td>2.608459e+04</td>\n",
       "      <td>NaN</td>\n",
       "      <td>NaN</td>\n",
       "      <td>NaN</td>\n",
       "      <td>NaN</td>\n",
       "      <td>NaN</td>\n",
       "    </tr>\n",
       "    <tr>\n",
       "      <th>std</th>\n",
       "      <td>1.582839e+06</td>\n",
       "      <td>1.774010e+04</td>\n",
       "      <td>NaN</td>\n",
       "      <td>NaN</td>\n",
       "      <td>NaN</td>\n",
       "      <td>NaN</td>\n",
       "      <td>NaN</td>\n",
       "    </tr>\n",
       "    <tr>\n",
       "      <th>min</th>\n",
       "      <td>0.000000e+00</td>\n",
       "      <td>7.900000e+01</td>\n",
       "      <td>NaN</td>\n",
       "      <td>NaN</td>\n",
       "      <td>NaN</td>\n",
       "      <td>NaN</td>\n",
       "      <td>NaN</td>\n",
       "    </tr>\n",
       "    <tr>\n",
       "      <th>25%</th>\n",
       "      <td>1.370778e+06</td>\n",
       "      <td>1.149200e+04</td>\n",
       "      <td>NaN</td>\n",
       "      <td>NaN</td>\n",
       "      <td>NaN</td>\n",
       "      <td>NaN</td>\n",
       "      <td>NaN</td>\n",
       "    </tr>\n",
       "    <tr>\n",
       "      <th>50%</th>\n",
       "      <td>2.741556e+06</td>\n",
       "      <td>2.712100e+04</td>\n",
       "      <td>NaN</td>\n",
       "      <td>NaN</td>\n",
       "      <td>NaN</td>\n",
       "      <td>NaN</td>\n",
       "      <td>NaN</td>\n",
       "    </tr>\n",
       "    <tr>\n",
       "      <th>75%</th>\n",
       "      <td>4.112335e+06</td>\n",
       "      <td>4.519600e+04</td>\n",
       "      <td>NaN</td>\n",
       "      <td>NaN</td>\n",
       "      <td>NaN</td>\n",
       "      <td>NaN</td>\n",
       "      <td>NaN</td>\n",
       "    </tr>\n",
       "    <tr>\n",
       "      <th>max</th>\n",
       "      <td>5.483113e+06</td>\n",
       "      <td>6.551100e+04</td>\n",
       "      <td>NaN</td>\n",
       "      <td>NaN</td>\n",
       "      <td>NaN</td>\n",
       "      <td>NaN</td>\n",
       "      <td>NaN</td>\n",
       "    </tr>\n",
       "  </tbody>\n",
       "</table>\n",
       "</div>"
      ],
      "text/plain": [
       "          Unnamed: 0        TripID  RouteID   StopID           StopName  \\\n",
       "count   5.483114e+06  5.483114e+06  5483114  5483114            5483114   \n",
       "unique           NaN           NaN      194     4279               2437   \n",
       "top              NaN           NaN      300    16279  2 King William Rd   \n",
       "freq             NaN           NaN   228373    29805              36369   \n",
       "mean    2.741556e+06  2.608459e+04      NaN      NaN                NaN   \n",
       "std     1.582839e+06  1.774010e+04      NaN      NaN                NaN   \n",
       "min     0.000000e+00  7.900000e+01      NaN      NaN                NaN   \n",
       "25%     1.370778e+06  1.149200e+04      NaN      NaN                NaN   \n",
       "50%     2.741556e+06  2.712100e+04      NaN      NaN                NaN   \n",
       "75%     4.112335e+06  4.519600e+04      NaN      NaN                NaN   \n",
       "max     5.483113e+06  6.551100e+04      NaN      NaN                NaN   \n",
       "\n",
       "              WeekBeginning NumberOfBoardings  \n",
       "count               5483114           5483114  \n",
       "unique                   54               286  \n",
       "top     2014-03-02 00:00:00                 1  \n",
       "freq                 111029           2212135  \n",
       "mean                    NaN               NaN  \n",
       "std                     NaN               NaN  \n",
       "min                     NaN               NaN  \n",
       "25%                     NaN               NaN  \n",
       "50%                     NaN               NaN  \n",
       "75%                     NaN               NaN  \n",
       "max                     NaN               NaN  "
      ]
     },
     "execution_count": 9,
     "metadata": {},
     "output_type": "execute_result"
    }
   ],
   "source": [
    "df.describe(include = 'all')"
   ]
  },
  {
   "cell_type": "code",
   "execution_count": 10,
   "metadata": {},
   "outputs": [
    {
     "name": "stderr",
     "output_type": "stream",
     "text": [
      "P:\\Programme\\Anaconda3\\lib\\site-packages\\ipykernel_launcher.py:2: SettingWithCopyWarning: \n",
      "A value is trying to be set on a copy of a slice from a DataFrame.\n",
      "Try using .loc[row_indexer,col_indexer] = value instead\n",
      "\n",
      "See the caveats in the documentation: http://pandas.pydata.org/pandas-docs/stable/indexing.html#indexing-view-versus-copy\n",
      "  \n"
     ]
    },
    {
     "data": {
      "text/plain": [
       "array([['100', '14156', 1372543200.0],\n",
       "       ['100', '14144', 1372543200.0],\n",
       "       ['100', '14132', 1372543200.0],\n",
       "       ...,\n",
       "       ['500', '11084', 1382824800.0],\n",
       "       ['500', '10902', 1382824800.0],\n",
       "       ['500', '13277', 1382824800.0]], dtype=object)"
      ]
     },
     "execution_count": 10,
     "metadata": {},
     "output_type": "execute_result"
    }
   ],
   "source": [
    "X = df[['RouteID', 'StopID', 'WeekBeginning']]\n",
    "X['WeekBeginning'] = X['WeekBeginning'].apply(lambda d: datetime.datetime.strptime(d, \"%Y-%m-%d %H:%M:%S\").timestamp())\n",
    "X = X.values\n",
    "X"
   ]
  },
  {
   "cell_type": "code",
   "execution_count": 11,
   "metadata": {},
   "outputs": [],
   "source": [
    "#X_scaler = StandardScaler().fit_transform(X)\n",
    "X_scaler = X"
   ]
  },
  {
   "cell_type": "code",
   "execution_count": 12,
   "metadata": {},
   "outputs": [],
   "source": [
    "df['NumberOfBoardings'] = df['NumberOfBoardings'].apply(lambda v: float(v))\n",
    "y = df['NumberOfBoardings'].values\n",
    "\n",
    "# labels = [\"None\", \"Low\", \"Mid\", \"High\", \"Higher\", \"Highest\"]\n",
    "(y, bins) = pd.cut(y, [0, 10, 50, 100, 500, 1000, float(\"inf\")], labels=False, retbins=True)"
   ]
  },
  {
   "cell_type": "code",
   "execution_count": 13,
   "metadata": {},
   "outputs": [
    {
     "data": {
      "text/plain": [
       "Counter({0: 5040406, 1: 420435, 2: 20190, 3: 2081, 4: 2})"
      ]
     },
     "execution_count": 13,
     "metadata": {},
     "output_type": "execute_result"
    }
   ],
   "source": [
    "Counter(y)"
   ]
  },
  {
   "cell_type": "code",
   "execution_count": 14,
   "metadata": {},
   "outputs": [
    {
     "data": {
      "text/plain": [
       "array([   0.,   10.,   50.,  100.,  500., 1000.,   inf])"
      ]
     },
     "execution_count": 14,
     "metadata": {},
     "output_type": "execute_result"
    }
   ],
   "source": [
    "bins"
   ]
  },
  {
   "cell_type": "code",
   "execution_count": 15,
   "metadata": {},
   "outputs": [],
   "source": [
    "X_train, X_test, y_train, y_test = train_test_split(X_scaler, y, test_size=0.2, random_state=10)"
   ]
  },
  {
   "cell_type": "code",
   "execution_count": 16,
   "metadata": {},
   "outputs": [
    {
     "name": "stderr",
     "output_type": "stream",
     "text": [
      "P:\\Programme\\Anaconda3\\lib\\site-packages\\sklearn\\linear_model\\logistic.py:433: FutureWarning: Default solver will be changed to 'lbfgs' in 0.22. Specify a solver to silence this warning.\n",
      "  FutureWarning)\n",
      "P:\\Programme\\Anaconda3\\lib\\site-packages\\sklearn\\linear_model\\logistic.py:460: FutureWarning: Default multi_class will be changed to 'auto' in 0.22. Specify the multi_class option to silence this warning.\n",
      "  \"this warning.\", FutureWarning)\n"
     ]
    },
    {
     "name": "stdout",
     "output_type": "stream",
     "text": [
      "Logistic Regression:  91.90551356300205\n"
     ]
    }
   ],
   "source": [
    "model_lr = LogisticRegression()\n",
    "model_lr.fit(X_train, y_train)\n",
    "print(\"Logistic Regression: \", model_lr.score(X_test, y_test) * 100)"
   ]
  },
  {
   "cell_type": "code",
   "execution_count": 17,
   "metadata": {},
   "outputs": [
    {
     "data": {
      "text/plain": [
       "['data/lr.joblib']"
      ]
     },
     "execution_count": 17,
     "metadata": {},
     "output_type": "execute_result"
    }
   ],
   "source": [
    "from sklearn.externals import joblib\n",
    "\n",
    "joblib.dump(model_lr, 'data/lr.joblib')"
   ]
  },
  {
   "cell_type": "code",
   "execution_count": 13,
   "metadata": {},
   "outputs": [
    {
     "name": "stdout",
     "output_type": "stream",
     "text": [
      "GaussianNB:  91.7566930476563\n"
     ]
    }
   ],
   "source": [
    "from sklearn.naive_bayes import GaussianNB\n",
    "\n",
    "model_gnb = GaussianNB()\n",
    "model_gnb.fit(X_train, y_train)\n",
    "print(\"GaussianNB: \", model_gnb.score(X_test, y_test) * 100)"
   ]
  },
  {
   "cell_type": "code",
   "execution_count": 16,
   "metadata": {},
   "outputs": [
    {
     "name": "stdout",
     "output_type": "stream",
     "text": [
      "MLPClassifier:  91.90551356300205\n"
     ]
    }
   ],
   "source": [
    "from sklearn.neural_network import MLPClassifier\n",
    "\n",
    "model_mlp = MLPClassifier(hidden_layer_sizes=(1, 2), random_state=42)\n",
    "model_mlp.fit(X_train, y_train)\n",
    "print(\"MLPClassifier: \", model_mlp.score(X_test, y_test) * 100)"
   ]
  }
 ],
 "metadata": {
  "kernelspec": {
   "display_name": "Python 3",
   "language": "python",
   "name": "python3"
  },
  "language_info": {
   "codemirror_mode": {
    "name": "ipython",
    "version": 3
   },
   "file_extension": ".py",
   "mimetype": "text/x-python",
   "name": "python",
   "nbconvert_exporter": "python",
   "pygments_lexer": "ipython3",
   "version": "3.7.1"
  }
 },
 "nbformat": 4,
 "nbformat_minor": 2
}
